{
 "cells": [
  {
   "cell_type": "markdown",
   "metadata": {},
   "source": [
    "# Welcome to this incredible analysis\n"
   ]
  },
  {
   "cell_type": "markdown",
   "metadata": {},
   "source": [
    "Let's start by loading the data and importing packages."
   ]
  },
  {
   "cell_type": "code",
   "execution_count": 1,
   "metadata": {},
   "outputs": [],
   "source": [
    "import pandas as pd \n",
    "import numpy as np \n",
    "from scipy import stats"
   ]
  },
  {
   "cell_type": "code",
   "execution_count": 2,
   "metadata": {},
   "outputs": [
    {
     "output_type": "execute_result",
     "data": {
      "text/plain": "   Gender  FSIQ  VIQ  PIQ  Weight  Height  MRI_Count\n1  Female   133  132  124   118.0    64.5     816932\n2    Male   140  150  124     NaN    72.5    1001121\n3    Male   139  123  150   143.0    73.3    1038437\n4    Male   133  129  128   172.0    68.8     965353\n5  Female   137  132  134   147.0    65.0     951545",
      "text/html": "<div>\n<style scoped>\n    .dataframe tbody tr th:only-of-type {\n        vertical-align: middle;\n    }\n\n    .dataframe tbody tr th {\n        vertical-align: top;\n    }\n\n    .dataframe thead th {\n        text-align: right;\n    }\n</style>\n<table border=\"1\" class=\"dataframe\">\n  <thead>\n    <tr style=\"text-align: right;\">\n      <th></th>\n      <th>Gender</th>\n      <th>FSIQ</th>\n      <th>VIQ</th>\n      <th>PIQ</th>\n      <th>Weight</th>\n      <th>Height</th>\n      <th>MRI_Count</th>\n    </tr>\n  </thead>\n  <tbody>\n    <tr>\n      <td>1</td>\n      <td>Female</td>\n      <td>133</td>\n      <td>132</td>\n      <td>124</td>\n      <td>118.0</td>\n      <td>64.5</td>\n      <td>816932</td>\n    </tr>\n    <tr>\n      <td>2</td>\n      <td>Male</td>\n      <td>140</td>\n      <td>150</td>\n      <td>124</td>\n      <td>NaN</td>\n      <td>72.5</td>\n      <td>1001121</td>\n    </tr>\n    <tr>\n      <td>3</td>\n      <td>Male</td>\n      <td>139</td>\n      <td>123</td>\n      <td>150</td>\n      <td>143.0</td>\n      <td>73.3</td>\n      <td>1038437</td>\n    </tr>\n    <tr>\n      <td>4</td>\n      <td>Male</td>\n      <td>133</td>\n      <td>129</td>\n      <td>128</td>\n      <td>172.0</td>\n      <td>68.8</td>\n      <td>965353</td>\n    </tr>\n    <tr>\n      <td>5</td>\n      <td>Female</td>\n      <td>137</td>\n      <td>132</td>\n      <td>134</td>\n      <td>147.0</td>\n      <td>65.0</td>\n      <td>951545</td>\n    </tr>\n  </tbody>\n</table>\n</div>"
     },
     "metadata": {},
     "execution_count": 2
    }
   ],
   "source": [
    "csv = 'data/brainsize.csv'\n",
    "data = pd.read_csv(csv, sep=';', index_col=0, na_values=\".\") # Missing values are ID'd as such.\n",
    "data.head()"
   ]
  },
  {
   "cell_type": "markdown",
   "metadata": {},
   "source": [
    "Let's generate our variable of interest: partY"
   ]
  },
  {
   "cell_type": "code",
   "execution_count": 25,
   "metadata": {},
   "outputs": [],
   "source": [
    "# This cell is commented out so it isn't run with the rest. This cell generated the partY data.\n",
    "\n",
    "#### What is the number of rows?\n",
    "# rows = data.shape[0]\n",
    "#### Generate the data\n",
    "# partY = np.random.rand(rows, 1)\n",
    "#### Save the data to .txt file\n",
    "# partY = partY.tolist()\n",
    "# with open('data/partY.txt', 'w') as fhandle:\n",
    "#     for x in partY:\n",
    "#         fhandle.write('%s\\n' % x)"
   ]
  },
  {
   "cell_type": "markdown",
   "metadata": {},
   "source": [
    "Now that the variable of interest is saved to file, let's add it to the dataframe!"
   ]
  },
  {
   "cell_type": "code",
   "execution_count": 33,
   "metadata": {},
   "outputs": [],
   "source": [
    "partY = []\n",
    "with open('data/partY.txt', 'r') as fhandle:\n",
    "    for line in fhandle:\n",
    "        line = line.replace(\"]\\n\", \"\") # Remove superfluous characters\n",
    "        line = line.replace(\"[\", \"\")\n",
    "        partY.append(line)\n",
    "data['partY'] = partY\n",
    "data_desc = data.describe() # For easy VS Code checking"
   ]
  },
  {
   "cell_type": "code",
   "execution_count": null,
   "metadata": {},
   "outputs": [],
   "source": []
  }
 ],
 "metadata": {
  "language_info": {
   "codemirror_mode": {
    "name": "ipython",
    "version": 3
   },
   "file_extension": ".py",
   "mimetype": "text/x-python",
   "name": "python",
   "nbconvert_exporter": "python",
   "pygments_lexer": "ipython3",
   "version": "3.7.4-final"
  },
  "orig_nbformat": 2,
  "kernelspec": {
   "name": "python3",
   "display_name": "Python 3"
  }
 },
 "nbformat": 4,
 "nbformat_minor": 2
}